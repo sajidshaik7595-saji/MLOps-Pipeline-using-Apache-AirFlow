{
 "cells": [
  {
   "cell_type": "code",
   "execution_count": 1,
   "id": "802b89b6-9232-4787-ae01-6d519cd681a6",
   "metadata": {},
   "outputs": [],
   "source": [
    "import pandas as pd\n",
    "import numpy as np"
   ]
  },
  {
   "cell_type": "code",
   "execution_count": 3,
   "id": "322ee362-b77c-4319-95e4-af4cf5fc0cab",
   "metadata": {},
   "outputs": [],
   "source": [
    "from sklearn.preprocessing import MinMaxScaler"
   ]
  },
  {
   "cell_type": "code",
   "execution_count": 5,
   "id": "eeaf6bb9-96cc-494c-a4f9-1ce7202d4b42",
   "metadata": {},
   "outputs": [
    {
     "name": "stdout",
     "output_type": "stream",
     "text": [
      "Date               0\n",
      "App                0\n",
      "Usage (minutes)    0\n",
      "Notifications      0\n",
      "Times Opened       0\n",
      "dtype: int64\n",
      "0\n"
     ]
    }
   ],
   "source": [
    "# load the dataset\n",
    "data = pd.read_csv('screentime_analysis.csv')\n",
    "\n",
    "# check for missing values and duplicates\n",
    "print(data.isnull().sum())\n",
    "print(data.duplicated().sum())\n",
    "\n",
    "# convert Date column to datetime and extract features\n",
    "data['Date'] = pd.to_datetime(data['Date'])\n",
    "data['DayOfWeek'] = data['Date'].dt.dayofweek\n",
    "data['Month'] = data['Date'].dt.month\n",
    "\n",
    "# encode the categorical 'App' column using one-hot encoding\n",
    "data = pd.get_dummies(data, columns=['App'], drop_first=True)"
   ]
  },
  {
   "cell_type": "code",
   "execution_count": 7,
   "id": "b0981120-d97b-43bf-8a0e-554ff4fd756f",
   "metadata": {},
   "outputs": [],
   "source": [
    "# scale numerical features using MinMaxScaler\n",
    "scaler = MinMaxScaler()\n",
    "data[['Notifications', 'Times Opened']] = scaler.fit_transform(data[['Notifications', 'Times Opened']])\n",
    "\n",
    "# feature engineering\n",
    "data['Previous_Day_Usage'] = data['Usage (minutes)'].shift(1)\n",
    "data['Notifications_x_TimesOpened'] = data['Notifications'] * data['Times Opened']\n",
    "\n",
    "# save the preprocessed data to a file\n",
    "data.to_csv('preprocessed_screentime_analysis.csv', index=False)"
   ]
  },
  {
   "cell_type": "code",
   "execution_count": 9,
   "id": "8a8395ba-d424-4772-bad4-2db85d285078",
   "metadata": {},
   "outputs": [
    {
     "name": "stdout",
     "output_type": "stream",
     "text": [
      "Mean Absolute Error: 15.398500000000002\n"
     ]
    }
   ],
   "source": [
    "from sklearn.model_selection import train_test_split\n",
    "from sklearn.ensemble import RandomForestRegressor\n",
    "from sklearn.metrics import mean_absolute_error\n",
    "\n",
    "# split data into features and target variable\n",
    "X = data.drop(columns=['Usage (minutes)', 'Date'])\n",
    "y = data['Usage (minutes)']\n",
    "\n",
    "# train-test split\n",
    "X_train, X_test, y_train, y_test = train_test_split(X, y, test_size=0.2, random_state=42)\n",
    "\n",
    "# train the model\n",
    "model = RandomForestRegressor(random_state=42)\n",
    "model.fit(X_train, y_train)\n",
    "\n",
    "# evaluate the model\n",
    "predictions = model.predict(X_test)\n",
    "mae = mean_absolute_error(y_test, predictions)\n",
    "print(f'Mean Absolute Error: {mae}')"
   ]
  },
  {
   "cell_type": "code",
   "execution_count": 11,
   "id": "9102c17e-4ac2-4c31-85d6-3971adddd421",
   "metadata": {},
   "outputs": [
    {
     "name": "stderr",
     "output_type": "stream",
     "text": [
      "C:\\Users\\Acer\\anaconda3\\Lib\\site-packages\\airflow\\__init__.py:36: RuntimeWarning: Airflow currently can be run on POSIX-compliant Operating Systems. For development, it is regularly tested on fairly modern Linux Distros and recent versions of macOS. On Windows you can run it via WSL2 (Windows Subsystem for Linux 2) or via Linux Containers. The work to add Windows support is tracked via https://github.com/apache/airflow/issues/10388, but it is not a high priority.\n",
      "  warnings.warn(\n",
      "OSError while attempting to symlink the latest log directory\n"
     ]
    },
    {
     "data": {
      "text/html": [
       "<pre style=\"white-space:pre;overflow-x:auto;line-height:normal;font-family:Menlo,'DejaVu Sans Mono',consolas,'Courier New',monospace\"><span style=\"color: #808000; text-decoration-color: #808000; font-weight: bold\">C:\\Users\\Acer\\AppData\\Local\\Temp\\ipykernel_12844\\</span><span style=\"color: #808000; text-decoration-color: #808000; font-weight: bold\">82405165.</span><span style=\"color: #808000; text-decoration-color: #808000; font-weight: bold\">py:</span><span style=\"color: #808000; text-decoration-color: #808000; font-weight: bold\">26</span><span style=\"color: #808000; text-decoration-color: #808000; font-weight: bold\"> RemovedInAirflow3Warning</span><span style=\"color: #808000; text-decoration-color: #808000\">: Param `schedule_interval` is deprecated and will be removed in a future release. Please use `schedule` instead.</span>\n",
       "</pre>\n"
      ],
      "text/plain": [
       "\u001b[1;33mC:\\Users\\Acer\\AppData\\Local\\Temp\\ipykernel_12844\\\u001b[0m\u001b[1;33m82405165.\u001b[0m\u001b[1;33mpy:\u001b[0m\u001b[1;33m26\u001b[0m\u001b[1;33m RemovedInAirflow3Warning\u001b[0m\u001b[33m: Param `schedule_interval` is deprecated and will be removed in a future release. Please use `schedule` instead.\u001b[0m\n"
      ]
     },
     "metadata": {},
     "output_type": "display_data"
    }
   ],
   "source": [
    "from airflow import DAG\n",
    "from airflow.operators.python import PythonOperator\n",
    "from datetime import datetime\n",
    "\n",
    "# define the data preprocessing function\n",
    "def preprocess_data():\n",
    "    file_path = 'screentime_analysis.csv'\n",
    "    data = pd.read_csv(file_path)\n",
    "\n",
    "    data['Date'] = pd.to_datetime(data['Date'])\n",
    "    data['DayOfWeek'] = data['Date'].dt.dayofweek\n",
    "    data['Month'] = data['Date'].dt.month\n",
    "\n",
    "    data = data.drop(columns=['Date'])\n",
    "\n",
    "    data = pd.get_dummies(data, columns=['App'], drop_first=True)\n",
    "\n",
    "    scaler = MinMaxScaler()\n",
    "    data[['Notifications', 'Times Opened']] = scaler.fit_transform(data[['Notifications', 'Times Opened']])\n",
    "\n",
    "    preprocessed_path = 'preprocessed_screentime_analysis.csv'\n",
    "    data.to_csv(preprocessed_path, index=False)\n",
    "    print(f\"Preprocessed data saved to {preprocessed_path}\")\n",
    "\n",
    "# define the DAG\n",
    "dag = DAG(\n",
    "    dag_id='data_preprocessing',\n",
    "    schedule_interval='@daily',\n",
    "    start_date=datetime(2025, 1, 1),\n",
    "    catchup=False,\n",
    ")\n",
    "\n",
    "# define the task\n",
    "preprocess_task = PythonOperator(\n",
    "    task_id='preprocess',\n",
    "    python_callable=preprocess_data,\n",
    "    dag=dag,\n",
    ")"
   ]
  },
  {
   "cell_type": "code",
   "execution_count": null,
   "id": "344f6ea2-3489-41ed-977a-703a9e4f2b9b",
   "metadata": {},
   "outputs": [],
   "source": []
  }
 ],
 "metadata": {
  "kernelspec": {
   "display_name": "Python [conda env:base] *",
   "language": "python",
   "name": "conda-base-py"
  },
  "language_info": {
   "codemirror_mode": {
    "name": "ipython",
    "version": 3
   },
   "file_extension": ".py",
   "mimetype": "text/x-python",
   "name": "python",
   "nbconvert_exporter": "python",
   "pygments_lexer": "ipython3",
   "version": "3.12.7"
  }
 },
 "nbformat": 4,
 "nbformat_minor": 5
}
